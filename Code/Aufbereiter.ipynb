{
 "cells": [
  {
   "cell_type": "code",
   "execution_count": 61,
   "metadata": {},
   "outputs": [],
   "source": [
    "import pandas as pd\n",
    "import numpy as np"
   ]
  },
  {
   "cell_type": "markdown",
   "metadata": {},
   "source": [
    "## Paths"
   ]
  },
  {
   "cell_type": "code",
   "execution_count": 47,
   "metadata": {},
   "outputs": [],
   "source": [
    "path_data = r\"../Data/full-oldb.20220503\"\n",
    "path_data_extracted = r\"../Data/extracted\""
   ]
  },
  {
   "cell_type": "markdown",
   "metadata": {},
   "source": [
    "## Address"
   ]
  },
  {
   "cell_type": "code",
   "execution_count": 55,
   "metadata": {},
   "outputs": [],
   "source": [
    "csv_name = \"/nodes-addresses.csv\"\n",
    "\n",
    "df_addresses = pd.read_csv(path_data + csv_name, low_memory=False)\n",
    "\n",
    "df_addresses = df_addresses[[\"node_id\", \"address\", \"countries\"]]\n",
    "\n",
    "df_addresses.columns = [\"node_id:ID\", \"address\", \"country\"]\n",
    "\n",
    "df_addresses[\"address\"] = df_addresses[\"address\"].str.replace(\"\\n\", \"\")\n",
    "\n",
    "df_addresses.to_csv(path_data_extracted + csv_name, index=False, quoting = 2, quotechar=\"\\\"\")"
   ]
  },
  {
   "cell_type": "markdown",
   "metadata": {},
   "source": [
    "## Entities"
   ]
  },
  {
   "cell_type": "code",
   "execution_count": 56,
   "metadata": {},
   "outputs": [],
   "source": [
    "csv_name = \"/nodes-entities.csv\"\n",
    "\n",
    "df_nodes = pd.read_csv(path_data + csv_name, low_memory=False)\n",
    "\n",
    "df_nodes = df_nodes[[\"node_id\", \"name\"]]\n",
    "\n",
    "df_nodes.columns = [\"node_id:ID\", \"name\"]\n",
    "\n",
    "df_nodes[\"name\"] = df_nodes[\"name\"].str.replace(\"\\n\", \"\")\n",
    "\n",
    "df_nodes.to_csv(path_data_extracted + csv_name, index=False, quoting = 2, quotechar=\"\\\"\")"
   ]
  },
  {
   "cell_type": "markdown",
   "metadata": {},
   "source": [
    "## Intermediaries"
   ]
  },
  {
   "cell_type": "code",
   "execution_count": 54,
   "metadata": {},
   "outputs": [],
   "source": [
    "csv_name = \"/nodes-intermediaries.csv\"\n",
    "\n",
    "df_intermed = pd.read_csv(path_data + csv_name, low_memory=False)\n",
    "\n",
    "df_intermed = df_intermed[[\"node_id\", \"name\", \"countries\"]]\n",
    "\n",
    "df_intermed.columns = [\"node_id:ID\", \"name\", \"country\"]\n",
    "\n",
    "df_intermed[\"name\"] = df_intermed[\"name\"].str.replace(\"\\n\", \"\")\n",
    "\n",
    "df_intermed.to_csv(path_data_extracted + csv_name, index=False, quoting = 2, quotechar=\"\\\"\")"
   ]
  },
  {
   "cell_type": "markdown",
   "metadata": {},
   "source": [
    "## Officers"
   ]
  },
  {
   "cell_type": "code",
   "execution_count": 57,
   "metadata": {},
   "outputs": [],
   "source": [
    "csv_name = \"/nodes-officers.csv\"\n",
    "\n",
    "df_officer= pd.read_csv(path_data + csv_name, low_memory=False)\n",
    "\n",
    "df_officer = df_officer[[\"node_id\", \"name\", \"countries\"]]\n",
    "\n",
    "df_officer.columns = [\"node_id:ID\", \"name\", \"country\"]\n",
    "\n",
    "df_officer[\"name\"] = df_officer[\"name\"].str.replace(\"\\n\", \"\")\n",
    "\n",
    "df_officer.to_csv(path_data_extracted + csv_name, index=False, quoting = 2, quotechar=\"\\\"\")"
   ]
  },
  {
   "cell_type": "markdown",
   "metadata": {},
   "source": [
    "## Other"
   ]
  },
  {
   "cell_type": "code",
   "execution_count": 59,
   "metadata": {},
   "outputs": [],
   "source": [
    "csv_name = \"/nodes-others.csv\"\n",
    "\n",
    "df_other= pd.read_csv(path_data + csv_name, low_memory=False)\n",
    "\n",
    "df_other = df_other[[\"node_id\", \"name\", \"type\"]]\n",
    "\n",
    "df_other.columns = [\"node_id:ID\", \"name\", \"type\"]\n",
    "\n",
    "df_other[\"name\"] = df_other[\"name\"].str.replace(\"\\n\", \"\")\n",
    "\n",
    "df_other.to_csv(path_data_extracted + csv_name, index=False, quoting = 2, quotechar=\"\\\"\")"
   ]
  },
  {
   "cell_type": "markdown",
   "metadata": {},
   "source": [
    "## Relationships"
   ]
  },
  {
   "cell_type": "code",
   "execution_count": 64,
   "metadata": {},
   "outputs": [
    {
     "name": "stdout",
     "output_type": "stream",
     "text": [
      "['intermediary_of' 'officer_of' 'registered_address' 'underlying']\n"
     ]
    }
   ],
   "source": [
    "csv_name = \"/relationships.csv\"\n",
    "\n",
    "df_rel= pd.read_csv(path_data + csv_name, low_memory=False)\n",
    "\n",
    "df_rel = df_rel[[\"node_id_start\", \"node_id_end\", \"rel_type\"]]\n",
    "\n",
    "df_rel.columns = [\":START_ID\", \":END_ID\", \":TYPE\"]\n",
    "\n",
    "df_rel = df_rel.loc[df_rel[\":TYPE\"].isin([\"intermediary_of\", \"officer_of\", \"registered_address\", \"underlying\"])]\n",
    "\n",
    "df_rel.to_csv(path_data_extracted + csv_name, index=False, quoting = 2, quotechar=\"\\\"\")\n"
   ]
  },
  {
   "cell_type": "markdown",
   "metadata": {},
   "source": [
    "## Import in neo4j database"
   ]
  },
  {
   "cell_type": "markdown",
   "metadata": {},
   "source": [
    "Es is wichtig, dass nach dem Ausführend des Scpripts bei allen csv in /Data/extracted bei den Headern die '\"' entfernt werden!"
   ]
  },
  {
   "cell_type": "markdown",
   "metadata": {},
   "source": [
    "Folgender Befehl muss in der dbms konsole ausgeführt werden:<br>\n",
    "bin/neo4j-admin import --database=leaks --delimiter=\",\" --skip-duplicate-nodes --nodes=Address=import/nodes-addresses.csv --nodes=Entity=import/nodes-entities.csv --nodes=Intermediary=import/nodes-intermediaries.csv --nodes=Officer=import/nodes-officers.csv --nodes=Other=import/nodes-others.csv --relationships=import/relationships.csv"
   ]
  },
  {
   "cell_type": "markdown",
   "metadata": {},
   "source": [
    "Anschliessend muss die datenbank noch 'generiert' werden, indem der Befehl \"create database leaks\" im browser ausgeführt wird.<br>\n",
    "Danach kann die Datenbank mit \":use leaks\" selektiert werden"
   ]
  }
 ],
 "metadata": {
  "interpreter": {
   "hash": "aaf44a44f991776c7a468a10bd93d647e5ccc9a99b5473151ab62bf56451edd5"
  },
  "kernelspec": {
   "display_name": "Python 3.8.8 ('base')",
   "language": "python",
   "name": "python3"
  },
  "language_info": {
   "codemirror_mode": {
    "name": "ipython",
    "version": 3
   },
   "file_extension": ".py",
   "mimetype": "text/x-python",
   "name": "python",
   "nbconvert_exporter": "python",
   "pygments_lexer": "ipython3",
   "version": "3.8.8"
  },
  "orig_nbformat": 4
 },
 "nbformat": 4,
 "nbformat_minor": 2
}
