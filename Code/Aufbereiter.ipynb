{
 "cells": [
  {
   "cell_type": "code",
   "execution_count": 2,
   "metadata": {},
   "outputs": [],
   "source": [
    "import pandas as pd"
   ]
  },
  {
   "cell_type": "markdown",
   "metadata": {},
   "source": [
    "## Paths"
   ]
  },
  {
   "cell_type": "code",
   "execution_count": 3,
   "metadata": {},
   "outputs": [],
   "source": [
    "path_data = r\"../Data/full-oldb.20220503\"\n",
    "path_data_extracted = r\"../Data/extracted\""
   ]
  },
  {
   "cell_type": "markdown",
   "metadata": {},
   "source": [
    "## Address"
   ]
  },
  {
   "cell_type": "code",
   "execution_count": 4,
   "metadata": {},
   "outputs": [],
   "source": [
    "csv_name = \"/nodes-addresses.csv\"\n",
    "\n",
    "df_addresses = pd.read_csv(path_data + csv_name, low_memory=False)\n",
    "\n",
    "df_addresses = df_addresses[[\"node_id\", \"address\", \"countries\"]].astype(\"str\")\n",
    "\n",
    "df_addresses.columns = [\"node_id:ID\", \"address\", \"country\"]\n",
    "\n",
    "addresses = [item.replace(\"\\\\\", \"\") for item in df_addresses[\"address\"].values]\n",
    "\n",
    "df_addresses[\"address\"] = addresses\n",
    "\n",
    "df_addresses.to_csv(path_data_extracted + csv_name, index=False)"
   ]
  },
  {
   "cell_type": "markdown",
   "metadata": {},
   "source": [
    "## Entities"
   ]
  },
  {
   "cell_type": "code",
   "execution_count": 5,
   "metadata": {},
   "outputs": [],
   "source": [
    "csv_name = \"/nodes-entities.csv\"\n",
    "\n",
    "df_nodes = pd.read_csv(path_data + csv_name, low_memory=False)\n",
    "\n",
    "df_nodes = df_nodes[[\"node_id\", \"name\"]]\n",
    "\n",
    "df_nodes.columns = [\"node_id:ID\", \"name\"]\n",
    "\n",
    "df_nodes.to_csv(path_data_extracted + csv_name, index=False)"
   ]
  },
  {
   "cell_type": "markdown",
   "metadata": {},
   "source": [
    "## Intermediaries"
   ]
  },
  {
   "cell_type": "code",
   "execution_count": 6,
   "metadata": {},
   "outputs": [],
   "source": [
    "csv_name = \"/nodes-intermediaries.csv\"\n",
    "\n",
    "df_intermed = pd.read_csv(path_data + csv_name, low_memory=False)\n",
    "\n",
    "df_intermed = df_intermed[[\"node_id\", \"name\", \"countries\"]]\n",
    "\n",
    "df_intermed.columns = [\"node_id:ID\", \"name\", \"country\"]\n",
    "\n",
    "df_intermed.to_csv(path_data_extracted + csv_name, index=False)"
   ]
  },
  {
   "cell_type": "markdown",
   "metadata": {},
   "source": [
    "## Officers"
   ]
  },
  {
   "cell_type": "code",
   "execution_count": 7,
   "metadata": {},
   "outputs": [],
   "source": [
    "csv_name = \"/nodes-officers.csv\"\n",
    "\n",
    "df_officer= pd.read_csv(path_data + csv_name, low_memory=False)\n",
    "\n",
    "df_officer = df_officer[[\"node_id\", \"name\", \"countries\"]]\n",
    "\n",
    "df_officer.columns = [\"node_id:ID\", \"name\", \"country\"]\n",
    "\n",
    "df_officer.to_csv(path_data_extracted + csv_name, index=False)"
   ]
  },
  {
   "cell_type": "markdown",
   "metadata": {},
   "source": [
    "## Other"
   ]
  },
  {
   "cell_type": "code",
   "execution_count": 8,
   "metadata": {},
   "outputs": [],
   "source": [
    "csv_name = \"/nodes-others.csv\"\n",
    "\n",
    "df_other= pd.read_csv(path_data + csv_name, low_memory=False)\n",
    "\n",
    "df_other = df_other[[\"node_id\", \"name\", \"type\"]]\n",
    "\n",
    "df_other.columns = [\"node_id:ID\", \"name\", \"type\"]\n",
    "\n",
    "df_other.to_csv(path_data_extracted + csv_name, index=False)"
   ]
  },
  {
   "cell_type": "markdown",
   "metadata": {},
   "source": [
    "## Relationships"
   ]
  },
  {
   "cell_type": "code",
   "execution_count": 9,
   "metadata": {},
   "outputs": [],
   "source": [
    "csv_name = \"/relationships.csv\"\n",
    "\n",
    "df_rel= pd.read_csv(path_data + csv_name, low_memory=False)\n",
    "\n",
    "df_rel = df_rel[[\"node_id_start\", \"node_id_end\", \"rel_type\"]]\n",
    "\n",
    "df_rel.columns = [\"node_id_start:START_ID\", \"node_id_end:END_ID\", \"rel_type:TYPE\"]\n",
    "\n",
    "df_rel.to_csv(path_data_extracted + csv_name, index=False)\n"
   ]
  },
  {
   "cell_type": "markdown",
   "metadata": {},
   "source": [
    "## Import in neo4j database"
   ]
  },
  {
   "cell_type": "markdown",
   "metadata": {},
   "source": [
    "bin/neo4j-admin import --database=leaks --delimiter=\",\" --nodes=Address=import/nodes-addresses.csv --nodes=Entity=import/nodes-entities.csv --nodes=Intermediary=import/nodes-intermediaries.csv --nodes=Officer=import/nodes-officers.csv --nodes=Other=import/nodes-others.csv --relationships=import/relationships.csv"
   ]
  }
 ],
 "metadata": {
  "interpreter": {
   "hash": "aaf44a44f991776c7a468a10bd93d647e5ccc9a99b5473151ab62bf56451edd5"
  },
  "kernelspec": {
   "display_name": "Python 3.8.8 ('base')",
   "language": "python",
   "name": "python3"
  },
  "language_info": {
   "codemirror_mode": {
    "name": "ipython",
    "version": 3
   },
   "file_extension": ".py",
   "mimetype": "text/x-python",
   "name": "python",
   "nbconvert_exporter": "python",
   "pygments_lexer": "ipython3",
   "version": "3.8.8"
  },
  "orig_nbformat": 4
 },
 "nbformat": 4,
 "nbformat_minor": 2
}
